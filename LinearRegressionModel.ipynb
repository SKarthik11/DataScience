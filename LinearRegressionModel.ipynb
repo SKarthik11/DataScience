{
 "cells": [
  {
   "cell_type": "code",
   "execution_count": 46,
   "id": "62455c4f",
   "metadata": {},
   "outputs": [],
   "source": [
    "import numpy as np\n",
    "import pandas as pd\n",
    "from sklearn.model_selection import train_test_split\n",
    "from sklearn.linear_model import LinearRegression\n",
    "from sklearn.metrics import r2_score\n",
    "import matplotlib.pyplot as plt\n",
    "import seaborn as sns\n",
    "import warnings\n",
    "warnings.filterwarnings(\"ignore\")\n"
   ]
  },
  {
   "cell_type": "code",
   "execution_count": 48,
   "id": "19bb978d",
   "metadata": {},
   "outputs": [],
   "source": [
    "startup_df=pd.read_csv('trial.csv')\n",
    "startup_df.drop(startup_df.columns[[0,3]], axis=1, inplace=True)\n",
    "startup_df['total_supply'].fillna(value=startup_df['total_supply'].mean(), inplace=True)\n",
    "startup_df['total_sales'].fillna(value=startup_df['total_sales'].mean(), inplace=True)\n",
    "startup_df['volume'].fillna(value=startup_df['volume'].mean(), inplace=True)\n",
    "startup_df['max_price'].fillna(value=startup_df['max_price'].mean(), inplace=True)\n",
    "startup_df['floor_price'].fillna(value=startup_df['floor_price'].mean(), inplace=True)\n",
    "startup_df['holders'].fillna(value=startup_df['holders'].mean(), inplace=True)\n",
    "startup_df['buyers'].fillna(value=startup_df['buyers'].mean(), inplace=True)\n",
    "startup_df['sellers'].fillna(value=startup_df['sellers'].mean(), inplace=True)\n",
    "startup_df['liquidity'].fillna(value=startup_df['liquidity'].mean(), inplace=True)\n",
    "startup_df['marketcap'].fillna(value=startup_df['marketcap'].mean(), inplace=True)\n",
    "startup_df['total_transfers'].fillna(value=startup_df['total_transfers'].mean(), inplace=True)\n",
    "startup_df['avg_community_sentiment'].fillna(value=startup_df['avg_community_sentiment'].mean(), inplace=True)\n",
    "\n",
    "\n",
    "startup_df['total_supply'] = startup_df['total_supply'].astype('Float32')\n",
    "startup_df['total_sales'] = startup_df['total_sales'].astype('Float32')\n",
    "startup_df['volume'] = startup_df['volume'].astype('Float32')\n",
    "startup_df['max_price'] = startup_df['max_price'].astype('Float32')\n",
    "startup_df['floor_price'] = startup_df['floor_price'].astype('Float32')\n",
    "startup_df['holders'] = startup_df['holders'].astype('Float32')\n",
    "startup_df['buyers'] = startup_df['buyers'].astype('Float32')\n",
    "startup_df['sellers'] = startup_df['sellers'].astype('Float32')\n",
    "startup_df['liquidity'] = startup_df['liquidity'].astype('Float32')\n",
    "startup_df['marketcap'] = startup_df['marketcap'].astype('Float32')\n",
    "startup_df['total_transfers'] = startup_df['total_transfers'].astype('Float32')\n",
    "startup_df['avg_community_sentiment'] = startup_df['avg_community_sentiment'].astype('Float32')\n"
   ]
  },
  {
   "cell_type": "code",
   "execution_count": 49,
   "id": "93ce0229",
   "metadata": {},
   "outputs": [
    {
     "data": {
      "text/html": [
       "<div>\n",
       "<style scoped>\n",
       "    .dataframe tbody tr th:only-of-type {\n",
       "        vertical-align: middle;\n",
       "    }\n",
       "\n",
       "    .dataframe tbody tr th {\n",
       "        vertical-align: top;\n",
       "    }\n",
       "\n",
       "    .dataframe thead th {\n",
       "        text-align: right;\n",
       "    }\n",
       "</style>\n",
       "<table border=\"1\" class=\"dataframe\">\n",
       "  <thead>\n",
       "    <tr style=\"text-align: right;\">\n",
       "      <th></th>\n",
       "      <th>total_supply</th>\n",
       "      <th>total_sales</th>\n",
       "      <th>max_price</th>\n",
       "      <th>floor_price</th>\n",
       "      <th>holders</th>\n",
       "      <th>buyers</th>\n",
       "      <th>sellers</th>\n",
       "      <th>liquidity</th>\n",
       "      <th>marketcap</th>\n",
       "      <th>total_transfers</th>\n",
       "      <th>avg_community_sentiment</th>\n",
       "      <th>volume</th>\n",
       "    </tr>\n",
       "  </thead>\n",
       "  <tbody>\n",
       "    <tr>\n",
       "      <th>0</th>\n",
       "      <td>10000.0</td>\n",
       "      <td>26700.0</td>\n",
       "      <td>160000004361027584.0</td>\n",
       "      <td>160000004361027584.0</td>\n",
       "      <td>21565.0</td>\n",
       "      <td>10647.0</td>\n",
       "      <td>8125.0</td>\n",
       "      <td>267.0</td>\n",
       "      <td>277000001962517070872576.0</td>\n",
       "      <td>77191.0</td>\n",
       "      <td>215.79129</td>\n",
       "      <td>738999986310866964316160.0</td>\n",
       "    </tr>\n",
       "    <tr>\n",
       "      <th>1</th>\n",
       "      <td>10000.0</td>\n",
       "      <td>26700.0</td>\n",
       "      <td>160000004361027584.0</td>\n",
       "      <td>160000004361027584.0</td>\n",
       "      <td>21565.0</td>\n",
       "      <td>10647.0</td>\n",
       "      <td>8125.0</td>\n",
       "      <td>267.0</td>\n",
       "      <td>277000001962517070872576.0</td>\n",
       "      <td>77191.0</td>\n",
       "      <td>215.79129</td>\n",
       "      <td>738999986310866964316160.0</td>\n",
       "    </tr>\n",
       "    <tr>\n",
       "      <th>2</th>\n",
       "      <td>10000.0</td>\n",
       "      <td>26700.0</td>\n",
       "      <td>160000004361027584.0</td>\n",
       "      <td>160000004361027584.0</td>\n",
       "      <td>21565.0</td>\n",
       "      <td>10647.0</td>\n",
       "      <td>8125.0</td>\n",
       "      <td>267.0</td>\n",
       "      <td>277000001962517070872576.0</td>\n",
       "      <td>77191.0</td>\n",
       "      <td>203.884644</td>\n",
       "      <td>738999986310866964316160.0</td>\n",
       "    </tr>\n",
       "    <tr>\n",
       "      <th>3</th>\n",
       "      <td>10000.0</td>\n",
       "      <td>26700.0</td>\n",
       "      <td>160000004361027584.0</td>\n",
       "      <td>160000004361027584.0</td>\n",
       "      <td>21565.0</td>\n",
       "      <td>10647.0</td>\n",
       "      <td>8125.0</td>\n",
       "      <td>267.0</td>\n",
       "      <td>277000001962517070872576.0</td>\n",
       "      <td>77191.0</td>\n",
       "      <td>203.884644</td>\n",
       "      <td>738999986310866964316160.0</td>\n",
       "    </tr>\n",
       "    <tr>\n",
       "      <th>4</th>\n",
       "      <td>10000.0</td>\n",
       "      <td>26700.0</td>\n",
       "      <td>160000004361027584.0</td>\n",
       "      <td>160000004361027584.0</td>\n",
       "      <td>21565.0</td>\n",
       "      <td>10647.0</td>\n",
       "      <td>8125.0</td>\n",
       "      <td>267.0</td>\n",
       "      <td>277000001962517070872576.0</td>\n",
       "      <td>77191.0</td>\n",
       "      <td>183.894791</td>\n",
       "      <td>738999986310866964316160.0</td>\n",
       "    </tr>\n",
       "    <tr>\n",
       "      <th>...</th>\n",
       "      <td>...</td>\n",
       "      <td>...</td>\n",
       "      <td>...</td>\n",
       "      <td>...</td>\n",
       "      <td>...</td>\n",
       "      <td>...</td>\n",
       "      <td>...</td>\n",
       "      <td>...</td>\n",
       "      <td>...</td>\n",
       "      <td>...</td>\n",
       "      <td>...</td>\n",
       "      <td>...</td>\n",
       "    </tr>\n",
       "    <tr>\n",
       "      <th>5252</th>\n",
       "      <td>10000.0</td>\n",
       "      <td>0.0</td>\n",
       "      <td>0.0</td>\n",
       "      <td>0.0</td>\n",
       "      <td>2.0</td>\n",
       "      <td>0.0</td>\n",
       "      <td>0.0</td>\n",
       "      <td>0.0</td>\n",
       "      <td>117860120982609863901184.0</td>\n",
       "      <td>30.0</td>\n",
       "      <td>45.051933</td>\n",
       "      <td>0.0</td>\n",
       "    </tr>\n",
       "    <tr>\n",
       "      <th>5253</th>\n",
       "      <td>10000.0</td>\n",
       "      <td>0.0</td>\n",
       "      <td>0.0</td>\n",
       "      <td>0.0</td>\n",
       "      <td>2.0</td>\n",
       "      <td>0.0</td>\n",
       "      <td>0.0</td>\n",
       "      <td>0.0</td>\n",
       "      <td>117860120982609863901184.0</td>\n",
       "      <td>30.0</td>\n",
       "      <td>45.051933</td>\n",
       "      <td>0.0</td>\n",
       "    </tr>\n",
       "    <tr>\n",
       "      <th>5254</th>\n",
       "      <td>10000.0</td>\n",
       "      <td>0.0</td>\n",
       "      <td>0.0</td>\n",
       "      <td>0.0</td>\n",
       "      <td>0.0</td>\n",
       "      <td>0.0</td>\n",
       "      <td>0.0</td>\n",
       "      <td>0.0</td>\n",
       "      <td>117860120982609863901184.0</td>\n",
       "      <td>0.0</td>\n",
       "      <td>45.051933</td>\n",
       "      <td>0.0</td>\n",
       "    </tr>\n",
       "    <tr>\n",
       "      <th>5255</th>\n",
       "      <td>10000.0</td>\n",
       "      <td>0.0</td>\n",
       "      <td>0.0</td>\n",
       "      <td>0.0</td>\n",
       "      <td>0.0</td>\n",
       "      <td>0.0</td>\n",
       "      <td>0.0</td>\n",
       "      <td>0.0</td>\n",
       "      <td>117860120982609863901184.0</td>\n",
       "      <td>0.0</td>\n",
       "      <td>45.051933</td>\n",
       "      <td>0.0</td>\n",
       "    </tr>\n",
       "    <tr>\n",
       "      <th>5256</th>\n",
       "      <td>10000.0</td>\n",
       "      <td>0.0</td>\n",
       "      <td>0.0</td>\n",
       "      <td>0.0</td>\n",
       "      <td>0.0</td>\n",
       "      <td>0.0</td>\n",
       "      <td>0.0</td>\n",
       "      <td>0.0</td>\n",
       "      <td>117860120982609863901184.0</td>\n",
       "      <td>0.0</td>\n",
       "      <td>45.051933</td>\n",
       "      <td>0.0</td>\n",
       "    </tr>\n",
       "  </tbody>\n",
       "</table>\n",
       "<p>5257 rows × 12 columns</p>\n",
       "</div>"
      ],
      "text/plain": [
       "      total_supply  total_sales             max_price           floor_price  \\\n",
       "0          10000.0      26700.0  160000004361027584.0  160000004361027584.0   \n",
       "1          10000.0      26700.0  160000004361027584.0  160000004361027584.0   \n",
       "2          10000.0      26700.0  160000004361027584.0  160000004361027584.0   \n",
       "3          10000.0      26700.0  160000004361027584.0  160000004361027584.0   \n",
       "4          10000.0      26700.0  160000004361027584.0  160000004361027584.0   \n",
       "...            ...          ...                   ...                   ...   \n",
       "5252       10000.0          0.0                   0.0                   0.0   \n",
       "5253       10000.0          0.0                   0.0                   0.0   \n",
       "5254       10000.0          0.0                   0.0                   0.0   \n",
       "5255       10000.0          0.0                   0.0                   0.0   \n",
       "5256       10000.0          0.0                   0.0                   0.0   \n",
       "\n",
       "      holders   buyers  sellers  liquidity                   marketcap  \\\n",
       "0     21565.0  10647.0   8125.0      267.0  277000001962517070872576.0   \n",
       "1     21565.0  10647.0   8125.0      267.0  277000001962517070872576.0   \n",
       "2     21565.0  10647.0   8125.0      267.0  277000001962517070872576.0   \n",
       "3     21565.0  10647.0   8125.0      267.0  277000001962517070872576.0   \n",
       "4     21565.0  10647.0   8125.0      267.0  277000001962517070872576.0   \n",
       "...       ...      ...      ...        ...                         ...   \n",
       "5252      2.0      0.0      0.0        0.0  117860120982609863901184.0   \n",
       "5253      2.0      0.0      0.0        0.0  117860120982609863901184.0   \n",
       "5254      0.0      0.0      0.0        0.0  117860120982609863901184.0   \n",
       "5255      0.0      0.0      0.0        0.0  117860120982609863901184.0   \n",
       "5256      0.0      0.0      0.0        0.0  117860120982609863901184.0   \n",
       "\n",
       "      total_transfers  avg_community_sentiment                      volume  \n",
       "0             77191.0                215.79129  738999986310866964316160.0  \n",
       "1             77191.0                215.79129  738999986310866964316160.0  \n",
       "2             77191.0               203.884644  738999986310866964316160.0  \n",
       "3             77191.0               203.884644  738999986310866964316160.0  \n",
       "4             77191.0               183.894791  738999986310866964316160.0  \n",
       "...               ...                      ...                         ...  \n",
       "5252             30.0                45.051933                         0.0  \n",
       "5253             30.0                45.051933                         0.0  \n",
       "5254              0.0                45.051933                         0.0  \n",
       "5255              0.0                45.051933                         0.0  \n",
       "5256              0.0                45.051933                         0.0  \n",
       "\n",
       "[5257 rows x 12 columns]"
      ]
     },
     "execution_count": 49,
     "metadata": {},
     "output_type": "execute_result"
    }
   ],
   "source": [
    "startup_df"
   ]
  },
  {
   "cell_type": "code",
   "execution_count": 50,
   "id": "a9e36b4c",
   "metadata": {},
   "outputs": [
    {
     "name": "stdout",
     "output_type": "stream",
     "text": [
      "Dataset contains 5257 rows and 12 columns\n"
     ]
    }
   ],
   "source": [
    "shape=startup_df.shape\n",
    "print(\"Dataset contains {} rows and {} columns\".format(shape[0],shape[1]))"
   ]
  },
  {
   "cell_type": "code",
   "execution_count": 62,
   "id": "6ec305fc",
   "metadata": {},
   "outputs": [],
   "source": [
    "x=startup_df.iloc[:,:10]\n",
    "y=startup_df.iloc[:,11]"
   ]
  },
  {
   "cell_type": "code",
   "execution_count": 52,
   "id": "d509bd82",
   "metadata": {},
   "outputs": [],
   "source": [
    "x_train,x_test,y_train,y_test=train_test_split(x,y,test_size=0.2,random_state=0)"
   ]
  },
  {
   "cell_type": "code",
   "execution_count": 53,
   "id": "e1f2b437",
   "metadata": {},
   "outputs": [
    {
     "name": "stdout",
     "output_type": "stream",
     "text": [
      "X_train: (4205, 11)\n",
      "X_test: (1052, 11)\n",
      "Y_train: (4205,)\n",
      "Y_test: (1052,)\n"
     ]
    }
   ],
   "source": [
    "print(\"X_train:\",x_train.shape)\n",
    "print(\"X_test:\",x_test.shape)\n",
    "print(\"Y_train:\",y_train.shape)\n",
    "print(\"Y_test:\",y_test.shape)"
   ]
  },
  {
   "cell_type": "code",
   "execution_count": 54,
   "id": "da709ad0",
   "metadata": {},
   "outputs": [
    {
     "data": {
      "text/plain": [
       "LinearRegression()"
      ]
     },
     "execution_count": 54,
     "metadata": {},
     "output_type": "execute_result"
    }
   ],
   "source": [
    "linreg=LinearRegression()\n",
    "linreg.fit(x_train,y_train)"
   ]
  },
  {
   "cell_type": "code",
   "execution_count": 55,
   "id": "43788b95",
   "metadata": {},
   "outputs": [
    {
     "data": {
      "text/plain": [
       "array([2.36319520e+23, 7.13294614e+23, 2.32792400e+23, ...,\n",
       "       3.20179227e+22, 3.55156314e+23, 3.93140695e+23])"
      ]
     },
     "execution_count": 55,
     "metadata": {},
     "output_type": "execute_result"
    }
   ],
   "source": [
    "y_pred=linreg.predict(x_test)\n",
    "y_pred"
   ]
  },
  {
   "cell_type": "code",
   "execution_count": 56,
   "id": "0ef665da",
   "metadata": {},
   "outputs": [
    {
     "name": "stdout",
     "output_type": "stream",
     "text": [
      " Accuracy of the model is 99.75\n"
     ]
    }
   ],
   "source": [
    "Accuracy=r2_score(y_test,y_pred)*100\n",
    "print(\" Accuracy of the model is %.2f\" %Accuracy)"
   ]
  },
  {
   "cell_type": "code",
   "execution_count": 57,
   "id": "171c77d2",
   "metadata": {},
   "outputs": [],
   "source": [
    "pred_df=pd.DataFrame({'Actual Value':y_test,'Predicted Value':y_pred,'Difference':y_test-y_pred})"
   ]
  },
  {
   "cell_type": "code",
   "execution_count": 58,
   "id": "f0f079c4",
   "metadata": {},
   "outputs": [
    {
     "data": {
      "text/html": [
       "<div>\n",
       "<style scoped>\n",
       "    .dataframe tbody tr th:only-of-type {\n",
       "        vertical-align: middle;\n",
       "    }\n",
       "\n",
       "    .dataframe tbody tr th {\n",
       "        vertical-align: top;\n",
       "    }\n",
       "\n",
       "    .dataframe thead th {\n",
       "        text-align: right;\n",
       "    }\n",
       "</style>\n",
       "<table border=\"1\" class=\"dataframe\">\n",
       "  <thead>\n",
       "    <tr style=\"text-align: right;\">\n",
       "      <th></th>\n",
       "      <th>Actual Value</th>\n",
       "      <th>Predicted Value</th>\n",
       "      <th>Difference</th>\n",
       "    </tr>\n",
       "  </thead>\n",
       "  <tbody>\n",
       "    <tr>\n",
       "      <th>2769</th>\n",
       "      <td>223000004961696856670208.0</td>\n",
       "      <td>2.363195e+23</td>\n",
       "      <td>-13319514660891678212096.0</td>\n",
       "    </tr>\n",
       "    <tr>\n",
       "      <th>138</th>\n",
       "      <td>731000008105588129005568.0</td>\n",
       "      <td>7.132946e+23</td>\n",
       "      <td>17705394024164483923968.0</td>\n",
       "    </tr>\n",
       "    <tr>\n",
       "      <th>2778</th>\n",
       "      <td>219999995120318783946752.0</td>\n",
       "      <td>2.327924e+23</td>\n",
       "      <td>-12792404974276251222016.0</td>\n",
       "    </tr>\n",
       "    <tr>\n",
       "      <th>1367</th>\n",
       "      <td>422000003249963169480704.0</td>\n",
       "      <td>4.284119e+23</td>\n",
       "      <td>-6411887243689984000000.0</td>\n",
       "    </tr>\n",
       "    <tr>\n",
       "      <th>660</th>\n",
       "      <td>561999982130312977055744.0</td>\n",
       "      <td>5.505045e+23</td>\n",
       "      <td>11495488831029235417088.0</td>\n",
       "    </tr>\n",
       "    <tr>\n",
       "      <th>...</th>\n",
       "      <td>...</td>\n",
       "      <td>...</td>\n",
       "      <td>...</td>\n",
       "    </tr>\n",
       "    <tr>\n",
       "      <th>906</th>\n",
       "      <td>498999991634155563646976.0</td>\n",
       "      <td>4.962411e+23</td>\n",
       "      <td>2758920805021277749248.0</td>\n",
       "    </tr>\n",
       "    <tr>\n",
       "      <th>1662</th>\n",
       "      <td>396000002025212916793344.0</td>\n",
       "      <td>4.039933e+23</td>\n",
       "      <td>-7993338581652399456256.0</td>\n",
       "    </tr>\n",
       "    <tr>\n",
       "      <th>4148</th>\n",
       "      <td>40300001898362891665408.0</td>\n",
       "      <td>3.201792e+22</td>\n",
       "      <td>8282079214130050367488.0</td>\n",
       "    </tr>\n",
       "    <tr>\n",
       "      <th>1912</th>\n",
       "      <td>345000014865770775314432.0</td>\n",
       "      <td>3.551563e+23</td>\n",
       "      <td>-10156299281673232580608.0</td>\n",
       "    </tr>\n",
       "    <tr>\n",
       "      <th>1771</th>\n",
       "      <td>385999993239817353691136.0</td>\n",
       "      <td>3.931407e+23</td>\n",
       "      <td>-7140701973900400001024.0</td>\n",
       "    </tr>\n",
       "  </tbody>\n",
       "</table>\n",
       "<p>1052 rows × 3 columns</p>\n",
       "</div>"
      ],
      "text/plain": [
       "                    Actual Value  Predicted Value                 Difference\n",
       "2769  223000004961696856670208.0     2.363195e+23 -13319514660891678212096.0\n",
       "138   731000008105588129005568.0     7.132946e+23  17705394024164483923968.0\n",
       "2778  219999995120318783946752.0     2.327924e+23 -12792404974276251222016.0\n",
       "1367  422000003249963169480704.0     4.284119e+23  -6411887243689984000000.0\n",
       "660   561999982130312977055744.0     5.505045e+23  11495488831029235417088.0\n",
       "...                          ...              ...                        ...\n",
       "906   498999991634155563646976.0     4.962411e+23   2758920805021277749248.0\n",
       "1662  396000002025212916793344.0     4.039933e+23  -7993338581652399456256.0\n",
       "4148   40300001898362891665408.0     3.201792e+22   8282079214130050367488.0\n",
       "1912  345000014865770775314432.0     3.551563e+23 -10156299281673232580608.0\n",
       "1771  385999993239817353691136.0     3.931407e+23  -7140701973900400001024.0\n",
       "\n",
       "[1052 rows x 3 columns]"
      ]
     },
     "execution_count": 58,
     "metadata": {},
     "output_type": "execute_result"
    }
   ],
   "source": [
    "pred_df"
   ]
  },
  {
   "cell_type": "code",
   "execution_count": 59,
   "id": "de9fabd0",
   "metadata": {},
   "outputs": [
    {
     "data": {
      "text/plain": [
       "<matplotlib.collections.PathCollection at 0x252aa138fa0>"
      ]
     },
     "execution_count": 59,
     "metadata": {},
     "output_type": "execute_result"
    },
    {
     "data": {
      "image/png": "[encoded data removed]",
      "text/plain": [
       "<Figure size 432x288 with 1 Axes>"
      ]
     },
     "metadata": {
      "needs_background": "light"
     },
     "output_type": "display_data"
    }
   ],
   "source": [
    "plt.scatter(pred_df.index.values, pred_df['Actual Value'], c='b', marker='x', label='1')\n",
    "plt.scatter(pred_df.index.values, pred_df['Predicted Value'], c='r', marker='s', label='-1')"
   ]
  },
  {
   "cell_type": "code",
   "execution_count": null,
   "id": "a88397aa",
   "metadata": {},
   "outputs": [],
   "source": []
  }
 ],
 "metadata": {
  "kernelspec": {
   "display_name": "Python 3 (ipykernel)",
   "language": "python",
   "name": "python3"
  },
  "language_info": {
   "codemirror_mode": {
    "name": "ipython",
    "version": 3
   },
   "file_extension": ".py",
   "mimetype": "text/x-python",
   "name": "python",
   "nbconvert_exporter": "python",
   "pygments_lexer": "ipython3",
   "version": "3.9.12"
  }
 },
 "nbformat": 4,
 "nbformat_minor": 5
}
